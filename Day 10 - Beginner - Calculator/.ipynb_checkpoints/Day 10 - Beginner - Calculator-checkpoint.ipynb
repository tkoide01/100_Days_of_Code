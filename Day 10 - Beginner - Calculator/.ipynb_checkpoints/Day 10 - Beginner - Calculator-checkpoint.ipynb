{
 "cells": [
  {
   "cell_type": "markdown",
   "id": "c3017feb",
   "metadata": {},
   "source": [
    "Functions with Inputs"
   ]
  },
  {
   "cell_type": "code",
   "execution_count": 1,
   "id": "e732f467",
   "metadata": {
    "scrolled": false
   },
   "outputs": [
    {
     "data": {
      "text/plain": [
       "'\\ndef my_function(something):\\n    # Do this with something\\n    # Then do this\\n    # Finally do this\\n'"
      ]
     },
     "execution_count": 1,
     "metadata": {},
     "output_type": "execute_result"
    }
   ],
   "source": [
    "'''\n",
    "def my_function(something):\n",
    "    # Do this with something\n",
    "    # Then do this\n",
    "    # Finally do this\n",
    "'''"
   ]
  },
  {
   "cell_type": "markdown",
   "id": "de3227a2",
   "metadata": {},
   "source": [
    "## Functions with Outputs"
   ]
  },
  {
   "cell_type": "code",
   "execution_count": 2,
   "id": "c83876a4",
   "metadata": {},
   "outputs": [],
   "source": [
    "# define a function with outputs\n",
    "def my_function():\n",
    "    result = 3*2\n",
    "    return result"
   ]
  },
  {
   "cell_type": "code",
   "execution_count": 3,
   "id": "61a7241c",
   "metadata": {},
   "outputs": [
    {
     "data": {
      "text/plain": [
       "6"
      ]
     },
     "execution_count": 3,
     "metadata": {},
     "output_type": "execute_result"
    }
   ],
   "source": [
    "# call function\n",
    "my_function()"
   ]
  },
  {
   "cell_type": "code",
   "execution_count": 4,
   "id": "ed06df5c",
   "metadata": {},
   "outputs": [],
   "source": [
    "# function with outputs, converting strings into Title Style str.title()\n",
    "def format_name(f_name, l_name):\n",
    "    f_name = f_name.title()\n",
    "    l_name = l_name.title()\n",
    "    print(f_name+' '+l_name)"
   ]
  },
  {
   "cell_type": "code",
   "execution_count": 5,
   "id": "c3b008d7",
   "metadata": {},
   "outputs": [
    {
     "name": "stdout",
     "output_type": "stream",
     "text": [
      "Takuma Takuma\n"
     ]
    }
   ],
   "source": [
    "format_name('takuma','TAKUMA')"
   ]
  },
  {
   "cell_type": "code",
   "execution_count": 6,
   "id": "225e68a6",
   "metadata": {},
   "outputs": [],
   "source": [
    "def format_name(f_name, l_name):\n",
    "    f_name = f_name.title()\n",
    "    l_name = l_name.title()\n",
    "    return f'{f_name} {l_name}'"
   ]
  },
  {
   "cell_type": "code",
   "execution_count": 7,
   "id": "a93b621e",
   "metadata": {},
   "outputs": [
    {
     "data": {
      "text/plain": [
       "'Takuma Takuma'"
      ]
     },
     "execution_count": 7,
     "metadata": {},
     "output_type": "execute_result"
    }
   ],
   "source": [
    "format_name('takuma','TAKUMA')"
   ]
  },
  {
   "cell_type": "code",
   "execution_count": 8,
   "id": "b7fd342e",
   "metadata": {},
   "outputs": [
    {
     "name": "stdout",
     "output_type": "stream",
     "text": [
      "Takuma Takuma\n"
     ]
    }
   ],
   "source": [
    "print(format_name('takuma','TAKUMA'))"
   ]
  },
  {
   "cell_type": "code",
   "execution_count": 9,
   "id": "8a770a66",
   "metadata": {},
   "outputs": [
    {
     "data": {
      "text/plain": [
       "6"
      ]
     },
     "execution_count": 9,
     "metadata": {},
     "output_type": "execute_result"
    }
   ],
   "source": [
    "output = len('Takuma')\n",
    "output"
   ]
  },
  {
   "cell_type": "markdown",
   "id": "8e53e449",
   "metadata": {},
   "source": [
    "## Function of multiple Returns"
   ]
  },
  {
   "cell_type": "code",
   "execution_count": 10,
   "id": "3b9fe4be",
   "metadata": {},
   "outputs": [],
   "source": [
    "# return bahaves exit keyword for a function, so any task after return does not get executed"
   ]
  },
  {
   "cell_type": "code",
   "execution_count": 11,
   "id": "b5b1a0fd",
   "metadata": {},
   "outputs": [
    {
     "name": "stdout",
     "output_type": "stream",
     "text": [
      "What is your first name?tk\n",
      "What is your last name?tk\n",
      "Result: Tk Tk\n"
     ]
    }
   ],
   "source": [
    "def format_name(f_name, l_name):\n",
    "    if f_name == \"\" or l_name == \"\":\n",
    "        return \"You didn't provide valid inputs.\"\n",
    "    f_name = f_name.title()\n",
    "    l_name = l_name.title()\n",
    "    return f'Result: {f_name} {l_name}'\n",
    "\n",
    "print(format_name(input(\"What is your first name?\"), input(\"What is your last name?\")))"
   ]
  },
  {
   "cell_type": "markdown",
   "id": "f5bc8be9",
   "metadata": {},
   "source": [
    "## Days in Month Excersize"
   ]
  },
  {
   "cell_type": "code",
   "execution_count": 12,
   "id": "e70b286e",
   "metadata": {},
   "outputs": [
    {
     "data": {
      "text/plain": [
       "'\\nDays in Month\\nUPDATE\\nWe\\'ve moved away from repl.it for coding exercises. Check out the new exercises on Coding Rooms with automated submissions.\\n\\nLogin to your Udemy course and head over to the link below to get the sign up link:\\n\\nClick here\\n\\nInstructions\\nIn the starting code, you\\'ll find the solution from the Leap Year challenge. First, convert this function is_leap() so that instead of printing \"Leap year.\" or \"Not leap year.\" it should return True if it is a leap year and return False if it is not a leap year.\\n\\nYou are then going to create a function called days_in_month() which will take a year and a month as inputs, e.g.\\n\\ndays_in_month(year=2022, month=2)\\nAnd it will use this information to work out the number of days in the month, then return that as the output, e.g.:\\n\\n28\\nThe List month_days contains the number of days in a month from January to December for a non-leap year. A leap year has 29 days in February.\\n\\nHint\\nLook at the function call at the bottom of the code to see the positional arguments. The order is very important.\\n\\nFeel free to choose your own parameter names.\\n\\nRemember that month_days is a List and Lists in Python start at position 0. So the number of days in January is month_days[0]\\n\\nBe careful with indentation.\\n'"
      ]
     },
     "execution_count": 12,
     "metadata": {},
     "output_type": "execute_result"
    }
   ],
   "source": [
    "'''\n",
    "Days in Month\n",
    "UPDATE\n",
    "We've moved away from repl.it for coding exercises. Check out the new exercises on Coding Rooms with automated submissions.\n",
    "\n",
    "Login to your Udemy course and head over to the link below to get the sign up link:\n",
    "\n",
    "Click here\n",
    "\n",
    "Instructions\n",
    "In the starting code, you'll find the solution from the Leap Year challenge. First, convert this function is_leap() so that instead of printing \"Leap year.\" or \"Not leap year.\" it should return True if it is a leap year and return False if it is not a leap year.\n",
    "\n",
    "You are then going to create a function called days_in_month() which will take a year and a month as inputs, e.g.\n",
    "\n",
    "days_in_month(year=2022, month=2)\n",
    "And it will use this information to work out the number of days in the month, then return that as the output, e.g.:\n",
    "\n",
    "28\n",
    "The List month_days contains the number of days in a month from January to December for a non-leap year. A leap year has 29 days in February.\n",
    "\n",
    "Hint\n",
    "Look at the function call at the bottom of the code to see the positional arguments. The order is very important.\n",
    "\n",
    "Feel free to choose your own parameter names.\n",
    "\n",
    "Remember that month_days is a List and Lists in Python start at position 0. So the number of days in January is month_days[0]\n",
    "\n",
    "Be careful with indentation.\n",
    "'''"
   ]
  },
  {
   "cell_type": "code",
   "execution_count": 13,
   "id": "605599dd",
   "metadata": {},
   "outputs": [
    {
     "name": "stdout",
     "output_type": "stream",
     "text": [
      "Enter a year: 2022\n",
      "Enter a month: 2\n",
      "28\n"
     ]
    }
   ],
   "source": [
    "# Chang the print statement into return statement to declare \"True\" or \"False\"\n",
    "def is_leap(year):\n",
    "  if year % 4 == 0:\n",
    "    if year % 100 == 0:\n",
    "      if year % 400 == 0:\n",
    "        return \"True\"\n",
    "      else:\n",
    "        return \"False\"\n",
    "    else:\n",
    "      return \"True\"\n",
    "  else:\n",
    "    return \"False\"\n",
    "\n",
    "def days_in_month(year,month):\n",
    "    global month_days\n",
    "    month_days = [31, 28, 31, 30, 31, 30, 31, 31, 30, 31, 30, 31]\n",
    "    entry = month-1\n",
    "    # define the set of the number of days in month baased on whther it is leap year or not\n",
    "    if is_leap(year) == 'True':\n",
    "        month_days = [31, 29, 31, 30, 31, 30, 31, 31, 30, 31, 30, 31]\n",
    "        return month_days[entry]\n",
    "    return  month_days[entry]\n",
    "    \n",
    "    \n",
    "  \n",
    "  \n",
    "#🚨 Do NOT change any of the code below \n",
    "year = int(input(\"Enter a year: \"))\n",
    "month = int(input(\"Enter a month: \"))\n",
    "days = days_in_month(year, month)\n",
    "print(days)"
   ]
  },
  {
   "cell_type": "markdown",
   "id": "0db682f5",
   "metadata": {},
   "source": [
    "## Calculator Project"
   ]
  },
  {
   "cell_type": "code",
   "execution_count": 14,
   "id": "2e993306",
   "metadata": {},
   "outputs": [],
   "source": [
    "logo = \"\"\"\n",
    " _____________________\n",
    "|  _________________  |\n",
    "| | Pythonista   0. | |  .----------------.  .----------------.  .----------------.  .----------------. \n",
    "| |_________________| | | .--------------. || .--------------. || .--------------. || .--------------. |\n",
    "|  ___ ___ ___   ___  | | |     ______   | || |      __      | || |   _____      | || |     ______   | |\n",
    "| | 7 | 8 | 9 | | + | | | |   .' ___  |  | || |     /  \\     | || |  |_   _|     | || |   .' ___  |  | |\n",
    "| |___|___|___| |___| | | |  / .'   \\_|  | || |    / /\\ \\    | || |    | |       | || |  / .'   \\_|  | |\n",
    "| | 4 | 5 | 6 | | - | | | |  | |         | || |   / ____ \\   | || |    | |   _   | || |  | |         | |\n",
    "| |___|___|___| |___| | | |  \\ `.___.'\\  | || | _/ /    \\ \\_ | || |   _| |__/ |  | || |  \\ `.___.'\\  | |\n",
    "| | 1 | 2 | 3 | | x | | | |   `._____.'  | || ||____|  |____|| || |  |________|  | || |   `._____.'  | |\n",
    "| |___|___|___| |___| | | |              | || |              | || |              | || |              | |\n",
    "| | . | 0 | = | | / | | | '--------------' || '--------------' || '--------------' || '--------------' |\n",
    "| |___|___|___| |___| |  '----------------'  '----------------'  '----------------'  '----------------' \n",
    "|_____________________|\n",
    "\"\"\"\n"
   ]
  },
  {
   "cell_type": "code",
   "execution_count": 15,
   "id": "005429e5",
   "metadata": {},
   "outputs": [
    {
     "name": "stdout",
     "output_type": "stream",
     "text": [
      "What's the first number?: 3\n",
      "What's the second number?: 3\n",
      "+\n",
      "-\n",
      "*\n",
      "/\n",
      "Pick an operation from the line above: _\n"
     ]
    },
    {
     "ename": "NameError",
     "evalue": "name 'answer' is not defined",
     "output_type": "error",
     "traceback": [
      "\u001b[1;31m---------------------------------------------------------------------------\u001b[0m",
      "\u001b[1;31mNameError\u001b[0m                                 Traceback (most recent call last)",
      "Input \u001b[1;32mIn [15]\u001b[0m, in \u001b[0;36m<cell line: 47>\u001b[1;34m()\u001b[0m\n\u001b[0;32m     44\u001b[0m     answer \u001b[38;5;241m=\u001b[39m divide(n1, n2)\n\u001b[0;32m     46\u001b[0m \u001b[38;5;66;03m# Print the function and the answer \u001b[39;00m\n\u001b[1;32m---> 47\u001b[0m \u001b[38;5;28mprint\u001b[39m(\u001b[38;5;124mf\u001b[39m\u001b[38;5;124m'\u001b[39m\u001b[38;5;132;01m{\u001b[39;00mnum1\u001b[38;5;132;01m}\u001b[39;00m\u001b[38;5;124m \u001b[39m\u001b[38;5;132;01m{\u001b[39;00moperation_symbol\u001b[38;5;132;01m}\u001b[39;00m\u001b[38;5;124m \u001b[39m\u001b[38;5;132;01m{\u001b[39;00mnum2\u001b[38;5;132;01m}\u001b[39;00m\u001b[38;5;124m = \u001b[39m\u001b[38;5;132;01m{\u001b[39;00manswer\u001b[38;5;132;01m}\u001b[39;00m\u001b[38;5;124m'\u001b[39m)\n",
      "\u001b[1;31mNameError\u001b[0m: name 'answer' is not defined"
     ]
    }
   ],
   "source": [
    "# Calculator\n",
    "\n",
    "def add(n1, n2):\n",
    "    return n1 + n2\n",
    "def substract(n1, n2):\n",
    "    return n1 - n2\n",
    "def multiply(n1, n2):\n",
    "    return n1 * n2\n",
    "def divide(n1, n2):\n",
    "    return n1 / n2\n",
    "\n",
    "# Set key dicitionaries with difined functions\n",
    "\n",
    "operations = {\n",
    "    \"+\": add,\n",
    "    \"-\": substract,\n",
    "    \"*\": multiply,\n",
    "    \"/\": divide\n",
    "}\n",
    "\n",
    "# Set input variables to enter values\n",
    "num1 = int(input(\"What's the first number?: \"))\n",
    "num2 = int(input(\"What's the second number?: \"))\n",
    "\n",
    "# Print the symbol from the dictionary\n",
    "for symbol in operations:\n",
    "    print(symbol)\n",
    "# Ask the user for operation to use\n",
    "operation_symbol = input(\"Pick an operation from the line above: \")\n",
    "\n",
    "# Based on the input operation symbol, call the function to use\n",
    "n1 = num1\n",
    "n2 = num2\n",
    "if operation_symbol == '+':\n",
    "    answer = add(n1, n2)\n",
    "\n",
    "if operation_symbol == '-':\n",
    "    answer = subtract(n1, n2)\n",
    "    \n",
    "if operation_symbol == '*':\n",
    "    answer = multiply(n1, n2)\n",
    "    \n",
    "if operation_symbol == '/':\n",
    "    answer = divide(n1, n2)\n",
    "\n",
    "# Print the function and the answer \n",
    "print(f'{num1} {operation_symbol} {num2} = {answer}')"
   ]
  },
  {
   "cell_type": "code",
   "execution_count": 17,
   "id": "e259f788",
   "metadata": {},
   "outputs": [
    {
     "name": "stdout",
     "output_type": "stream",
     "text": [
      "What's the first number?: 2\n",
      "+\n",
      "-\n",
      "*\n",
      "/\n",
      "Pick an operation from the line above: +\n",
      "What's the second number?: 3\n",
      "2 + 3 = 5\n"
     ]
    }
   ],
   "source": [
    "# Calculator\n",
    "\n",
    "def add(n1, n2):\n",
    "    return n1 + n2\n",
    "def substract(n1, n2):\n",
    "    return n1 - n2\n",
    "def multiply(n1, n2):\n",
    "    return n1 * n2\n",
    "def divide(n1, n2):\n",
    "    return n1 / n2\n",
    "\n",
    "# Set key dicitionaries with difined functions\n",
    "\n",
    "operations = {\n",
    "    \"+\": add,\n",
    "    \"-\": substract,\n",
    "    \"*\": multiply,\n",
    "    \"/\": divide\n",
    "}\n",
    "\n",
    "# Set input variables for the first value\n",
    "num1 = int(input(\"What's the first number?: \"))\n",
    "\n",
    "# Print the symbol from the dictionary\n",
    "for symbol in operations:\n",
    "    print(symbol)\n",
    "# Ask the user for operation to use\n",
    "operation_symbol = input(\"Pick an operation from the line above: \")\n",
    "\n",
    "# Set input variables for second value\n",
    "num2 = int(input(\"What's the second number?: \"))\n",
    "\n",
    "# Based on the input operation symbol, call the function to use\n",
    "calculation_function = operations[operation_symbol]\n",
    "answer = calculation_function(num1,num2)\n",
    "\n",
    "# Print the function and the answer \n",
    "print(f'{num1} {operation_symbol} {num2} = {answer}')"
   ]
  },
  {
   "cell_type": "code",
   "execution_count": 18,
   "id": "ed514b14",
   "metadata": {},
   "outputs": [
    {
     "name": "stdout",
     "output_type": "stream",
     "text": [
      "What's the first number?: 2\n",
      "+\n",
      "-\n",
      "*\n",
      "/\n",
      "Pick an operation from the line above: +\n",
      "What's the second number?: 3\n",
      "2 + 3 = 5\n",
      "Pick another operation: -\n",
      "What's the next number?: 2\n",
      "5 - 2 = -3\n"
     ]
    }
   ],
   "source": [
    "## Additional calculation\n",
    "\n",
    "# Calculator\n",
    "\n",
    "def add(n1, n2):\n",
    "    return n1 + n2\n",
    "def substract(n1, n2):\n",
    "    return n1 - n2\n",
    "def multiply(n1, n2):\n",
    "    return n1 * n2\n",
    "def divide(n1, n2):\n",
    "    return n1 / n2\n",
    "\n",
    "# Set key dicitionaries with difined functions\n",
    "\n",
    "operations = {\n",
    "    \"+\": add,\n",
    "    \"-\": substract,\n",
    "    \"*\": multiply,\n",
    "    \"/\": divide\n",
    "}\n",
    "\n",
    "# Set input variables for the first value\n",
    "num1 = int(input(\"What's the first number?: \"))\n",
    "\n",
    "# Print the symbol from the dictionary\n",
    "for symbol in operations:\n",
    "    print(symbol)\n",
    "# Ask the user for operation to use\n",
    "operation_symbol = input(\"Pick an operation from the line above: \")\n",
    "\n",
    "# Set input variables for second value\n",
    "num2 = int(input(\"What's the second number?: \"))\n",
    "\n",
    "# Based on the input operation symbol, call the function to use\n",
    "calculation_function = operations[operation_symbol]\n",
    "first_answer = calculation_function(num1,num2)\n",
    "\n",
    "# Print the function and the answer \n",
    "print(f'{num1} {operation_symbol} {num2} = {first_answer}')\n",
    "\n",
    "operation_symbol = input(\"Pick another operation: \")\n",
    "num3 = int(input(\"What's the next number?: \"))\n",
    "\n",
    "# Based on the input operation symbol, call the function to use\n",
    "calculation_function = operations[operation_symbol]\n",
    "second_answer = calculation_function(calculation_function(num1,num2),num3)\n",
    "\n",
    "# Print the function and the answer \n",
    "print(f'{first_answer} {operation_symbol} {num3} = {second_answer}')"
   ]
  },
  {
   "cell_type": "code",
   "execution_count": null,
   "id": "a0f650ae",
   "metadata": {},
   "outputs": [],
   "source": [
    "## Utilize while loop to continue calculation\n",
    "\n",
    "# Calculator\n",
    "\n",
    "# 1. Define operations\n",
    "def add(n1, n2):\n",
    "    return n1 + n2\n",
    "def substract(n1, n2):\n",
    "    return n1 - n2\n",
    "def multiply(n1, n2):\n",
    "    return n1 * n2\n",
    "def divide(n1, n2):\n",
    "    return n1 / n2\n",
    "\n",
    "# 2. Set key dicitionaries with difined functions\n",
    "\n",
    "operations = {\n",
    "    \"+\": add,\n",
    "    \"-\": substract,\n",
    "    \"*\": multiply,\n",
    "    \"/\": divide\n",
    "}\n",
    "\n",
    "# 3. Accept user's input\n",
    "# a. Set input variables for the first value\n",
    "num1 = int(input(\"What's the first number?: \"))\n",
    "\n",
    "# Print the symbol from the dictionary by printing the entries of the dictionary\n",
    "for symbol in operations:\n",
    "    print(symbol)\n",
    "    \n",
    "# b. Ask the user for operation to use\n",
    "operation_symbol = input(\"Pick an operation from the line above: \")\n",
    "\n",
    "# c. Set input variables for second value\n",
    "num2 = int(input(\"What's the second number?: \"))\n",
    "\n",
    "# 4. Based on the input operation symbol, call the function to use\n",
    "calculation_function = operations[operation_symbol]\n",
    "first_answer = calculation_function(num1,num2)\n",
    "\n",
    "# 5. Print the function and the answer \n",
    "print(f'{num1} {operation_symbol} {num2} = {first_answer}')\n",
    "\n",
    "###################################################################################\n",
    "# Start the while loop\n",
    "\n",
    "loop = input(f'Type \\'y\\' to continue calculating with {calculation_function(num1,num2)}, or type \\'n\\' to exit.:  ')\n",
    "\n",
    "while loop == \"y\":\n",
    "    operation_symbol = input(\"Pick an operation: \")\n",
    "    num3 = int(input(\"What's the next number?: \"))\n",
    "\n",
    "    # Based on the input operation symbol, call the function to use\n",
    "    calculation_function = operations[operation_symbol]\n",
    "    next_answer = calculation_function(first_answer,num3)\n",
    "\n",
    "    # Print the function and the answer \n",
    "    print(f'{first_answer} {operation_symbol} {num3} = {next_answer}')\n",
    "    loop = input(f'Type \\'y\\' to continue calculating with {next_answer}, or type \\'n\\' to exit.:  ')\n",
    "    first_answer = next_answer\n",
    "else:\n",
    "    exit()\n"
   ]
  },
  {
   "cell_type": "code",
   "execution_count": 19,
   "id": "a0b4f43d",
   "metadata": {},
   "outputs": [
    {
     "name": "stdout",
     "output_type": "stream",
     "text": [
      "What's the first number?: 1\n",
      "+\n",
      "-\n",
      "*\n",
      "/\n",
      "Pick an operation from the line above: *\n",
      "What's the second number?: 1\n",
      "1 * 1 = 1\n",
      "Type 'y' to continue calculating with 1: n\n"
     ]
    }
   ],
   "source": [
    "## Utilize while loop to continue calculation (Improved version)\n",
    "\n",
    "# Calculator\n",
    "\n",
    "# 1. Define operations\n",
    "def add(n1, n2):\n",
    "    return n1 + n2\n",
    "def substract(n1, n2):\n",
    "    return n1 - n2\n",
    "def multiply(n1, n2):\n",
    "    return n1 * n2\n",
    "def divide(n1, n2):\n",
    "    return n1 / n2\n",
    "\n",
    "# 2. Set key dicitionaries with difined functions\n",
    "\n",
    "operations = {\n",
    "    \"+\": add,\n",
    "    \"-\": substract,\n",
    "    \"*\": multiply,\n",
    "    \"/\": divide\n",
    "}\n",
    "\n",
    "# 3. Accept user's input\n",
    "# a. Set input variables for the first value\n",
    "num1 = int(input(\"What's the first number?: \"))\n",
    "\n",
    "# Print the symbol from the dictionary by printing the entries of the dictionary\n",
    "for symbol in operations:\n",
    "    print(symbol)\n",
    "\n",
    "# Set the while loop key variable    \n",
    "should_continue = \"True\"\n",
    "\n",
    "# Start the while loop\n",
    "while should_continue == \"True\":\n",
    "    # b. Ask the user for operation to use\n",
    "    operation_symbol = input(\"Pick an operation from the line above: \")\n",
    "\n",
    "    # c. Set input variables for second value\n",
    "    num2 = int(input(\"What's the second number?: \"))\n",
    "\n",
    "    # 4. Based on the input operation symbol, call the function to use\n",
    "    calculation_function = operations[operation_symbol]\n",
    "    answer = calculation_function(num1,num2)\n",
    "\n",
    "    # 5. Print the function and the answer \n",
    "    print(f'{num1} {operation_symbol} {num2} = {answer}')\n",
    "    \n",
    "    if input(f'Type \\'y\\' to continue calculating with {calculation_function(num1,num2)}: ') == 'y':\n",
    "        should_continue = \"True\"\n",
    "        num1 = answer\n",
    "\n",
    "    else:\n",
    "        should_continue = \"False\""
   ]
  },
  {
   "cell_type": "markdown",
   "id": "f7efc9bf",
   "metadata": {},
   "source": [
    "## Recursion"
   ]
  },
  {
   "cell_type": "code",
   "execution_count": null,
   "id": "dbf53884",
   "metadata": {},
   "outputs": [],
   "source": [
    "# Calculator\n",
    "\n",
    "# 1. Define operations\n",
    "def add(n1, n2):\n",
    "    return n1 + n2\n",
    "def substract(n1, n2):\n",
    "    return n1 - n2\n",
    "def multiply(n1, n2):\n",
    "    return n1 * n2\n",
    "def divide(n1, n2):\n",
    "    return n1 / n2\n",
    "\n",
    "# Define calculator function\n",
    "def calculator():\n",
    "    # 2. Set key dicitionaries with difined functions\n",
    "\n",
    "    operations = {\n",
    "        \"+\": add,\n",
    "        \"-\": substract,\n",
    "        \"*\": multiply,\n",
    "        \"/\": divide\n",
    "    }\n",
    "\n",
    "    # 3. Accept user's input\n",
    "    # a. Set input variables for the first value\n",
    "    num1 = int(float(input(\"What's the first number?: \")))\n",
    "\n",
    "    # Print the symbol from the dictionary by printing the entries of the dictionary\n",
    "    for symbol in operations:\n",
    "        print(symbol)\n",
    "\n",
    "    # Set the while loop key variable    \n",
    "    should_continue = \"True\"\n",
    "\n",
    "    # Start the while loop\n",
    "    while should_continue == \"True\":\n",
    "        # b. Ask the user for operation to use\n",
    "        operation_symbol = input(\"Pick an operation from the line above: \")\n",
    "\n",
    "        # c. Set input variables for second value\n",
    "        num2 = int(float(input(\"What's the second number?: \")))\n",
    "\n",
    "        # 4. Based on the input operation symbol, call the function to use\n",
    "        calculation_function = operations[operation_symbol]\n",
    "        answer = calculation_function(num1,num2)\n",
    "\n",
    "        # 5. Print the function and the answer \n",
    "        print(f'{num1} {operation_symbol} {num2} = {answer}')\n",
    "\n",
    "        if input(f'Type \\'y\\' to continue calculating with {calculation_function(num1,num2)}: ') == 'y':\n",
    "            should_continue = \"True\"\n",
    "            num1 = answer\n",
    "\n",
    "        else:\n",
    "            should_continue = \"False\"\n",
    "            # call the calculator function again\n",
    "            calculator()"
   ]
  },
  {
   "cell_type": "code",
   "execution_count": null,
   "id": "67644ad5",
   "metadata": {},
   "outputs": [],
   "source": [
    "# Test\n",
    "calculator()"
   ]
  },
  {
   "cell_type": "code",
   "execution_count": 20,
   "id": "9f839ff6",
   "metadata": {},
   "outputs": [],
   "source": [
    "# Calculator\n",
    "\n",
    "# 1. Define operations\n",
    "def add(n1, n2):\n",
    "    return n1 + n2\n",
    "def substract(n1, n2):\n",
    "    return n1 - n2\n",
    "def multiply(n1, n2):\n",
    "    return n1 * n2\n",
    "def divide(n1, n2):\n",
    "    return n1 / n2\n",
    "\n",
    "# Define calculator function\n",
    "def calculator():\n",
    "    \n",
    "    print(logo)\n",
    "    \n",
    "    \n",
    "    # 2. Set key dicitionaries with difined functions\n",
    "\n",
    "    operations = {\n",
    "        \"+\": add,\n",
    "        \"-\": substract,\n",
    "        \"*\": multiply,\n",
    "        \"/\": divide\n",
    "    }\n",
    "\n",
    "    # 3. Accept user's input\n",
    "    # a. Set input variables for the first value\n",
    "    num1 = int(float(input(\"What's the first number?: \")))\n",
    "\n",
    "    # Print the symbol from the dictionary by printing the entries of the dictionary\n",
    "    for symbol in operations:\n",
    "        print(symbol)\n",
    "\n",
    "    # Set the while loop key variable    \n",
    "    should_continue = \"True\"\n",
    "\n",
    "    # Start the while loop\n",
    "    while should_continue == \"True\":\n",
    "        # b. Ask the user for operation to use\n",
    "        operation_symbol = input(\"Pick an operation from the line above: \")\n",
    "\n",
    "        # c. Set input variables for second value\n",
    "        num2 = int(float(input(\"What's the second number?: \")))\n",
    "\n",
    "        # 4. Based on the input operation symbol, call the function to use\n",
    "        calculation_function = operations[operation_symbol]\n",
    "        answer = calculation_function(num1,num2)\n",
    "\n",
    "        # 5. Print the function and the answer \n",
    "        print(f'{num1} {operation_symbol} {num2} = {answer}')\n",
    "\n",
    "        if input(f'Type \\'y\\' to continue calculating with {calculation_function(num1,num2)}: ') == 'y':\n",
    "            should_continue = \"True\"\n",
    "            num1 = answer\n",
    "\n",
    "        else:\n",
    "            should_continue = \"False\"\n",
    "            # call the calculator function again\n",
    "            calculator()"
   ]
  },
  {
   "cell_type": "code",
   "execution_count": null,
   "id": "2ce8c07b",
   "metadata": {},
   "outputs": [
    {
     "name": "stdout",
     "output_type": "stream",
     "text": [
      "\n",
      " _____________________\n",
      "|  _________________  |\n",
      "| | Pythonista   0. | |  .----------------.  .----------------.  .----------------.  .----------------. \n",
      "| |_________________| | | .--------------. || .--------------. || .--------------. || .--------------. |\n",
      "|  ___ ___ ___   ___  | | |     ______   | || |      __      | || |   _____      | || |     ______   | |\n",
      "| | 7 | 8 | 9 | | + | | | |   .' ___  |  | || |     /  \\     | || |  |_   _|     | || |   .' ___  |  | |\n",
      "| |___|___|___| |___| | | |  / .'   \\_|  | || |    / /\\ \\    | || |    | |       | || |  / .'   \\_|  | |\n",
      "| | 4 | 5 | 6 | | - | | | |  | |         | || |   / ____ \\   | || |    | |   _   | || |  | |         | |\n",
      "| |___|___|___| |___| | | |  \\ `.___.'\\  | || | _/ /    \\ \\_ | || |   _| |__/ |  | || |  \\ `.___.'\\  | |\n",
      "| | 1 | 2 | 3 | | x | | | |   `._____.'  | || ||____|  |____|| || |  |________|  | || |   `._____.'  | |\n",
      "| |___|___|___| |___| | | |              | || |              | || |              | || |              | |\n",
      "| | . | 0 | = | | / | | | '--------------' || '--------------' || '--------------' || '--------------' |\n",
      "| |___|___|___| |___| |  '----------------'  '----------------'  '----------------'  '----------------' \n",
      "|_____________________|\n",
      "\n",
      "What's the first number?: 2\n",
      "+\n",
      "-\n",
      "*\n",
      "/\n",
      "Pick an operation from the line above: /\n",
      "What's the second number?: 2\n",
      "2 / 2 = 1.0\n",
      "Type 'y' to continue calculating with 1.0: y\n",
      "Pick an operation from the line above: *\n",
      "What's the second number?: 5\n",
      "1.0 * 5 = 5.0\n",
      "Type 'y' to continue calculating with 5.0: n\n",
      "\n",
      " _____________________\n",
      "|  _________________  |\n",
      "| | Pythonista   0. | |  .----------------.  .----------------.  .----------------.  .----------------. \n",
      "| |_________________| | | .--------------. || .--------------. || .--------------. || .--------------. |\n",
      "|  ___ ___ ___   ___  | | |     ______   | || |      __      | || |   _____      | || |     ______   | |\n",
      "| | 7 | 8 | 9 | | + | | | |   .' ___  |  | || |     /  \\     | || |  |_   _|     | || |   .' ___  |  | |\n",
      "| |___|___|___| |___| | | |  / .'   \\_|  | || |    / /\\ \\    | || |    | |       | || |  / .'   \\_|  | |\n",
      "| | 4 | 5 | 6 | | - | | | |  | |         | || |   / ____ \\   | || |    | |   _   | || |  | |         | |\n",
      "| |___|___|___| |___| | | |  \\ `.___.'\\  | || | _/ /    \\ \\_ | || |   _| |__/ |  | || |  \\ `.___.'\\  | |\n",
      "| | 1 | 2 | 3 | | x | | | |   `._____.'  | || ||____|  |____|| || |  |________|  | || |   `._____.'  | |\n",
      "| |___|___|___| |___| | | |              | || |              | || |              | || |              | |\n",
      "| | . | 0 | = | | / | | | '--------------' || '--------------' || '--------------' || '--------------' |\n",
      "| |___|___|___| |___| |  '----------------'  '----------------'  '----------------'  '----------------' \n",
      "|_____________________|\n",
      "\n"
     ]
    }
   ],
   "source": [
    "# Test 2\n",
    "calculator()"
   ]
  },
  {
   "cell_type": "code",
   "execution_count": null,
   "id": "2894195b",
   "metadata": {},
   "outputs": [],
   "source": []
  }
 ],
 "metadata": {
  "kernelspec": {
   "display_name": "PythonData",
   "language": "python",
   "name": "pythondata"
  },
  "language_info": {
   "codemirror_mode": {
    "name": "ipython",
    "version": 3
   },
   "file_extension": ".py",
   "mimetype": "text/x-python",
   "name": "python",
   "nbconvert_exporter": "python",
   "pygments_lexer": "ipython3",
   "version": "3.9.12"
  }
 },
 "nbformat": 4,
 "nbformat_minor": 5
}
